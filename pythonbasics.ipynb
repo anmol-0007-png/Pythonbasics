{
  "nbformat": 4,
  "nbformat_minor": 0,
  "metadata": {
    "colab": {
      "provenance": []
    },
    "kernelspec": {
      "name": "python3",
      "display_name": "Python 3"
    },
    "language_info": {
      "name": "python"
    }
  },
  "cells": [
    {
      "cell_type": "markdown",
      "source": [
        "#------------------------PYTHON BASICS-------------"
      ],
      "metadata": {
        "id": "o4rcKekeE28O"
      }
    },
    {
      "cell_type": "markdown",
      "source": [
        "1.\twhat is python and why is it popular?\n",
        "\n",
        "Ans- Python is a high-level programming language for creating instruction for computer to follow and it is popular for it’s versatile use in industries like data industries image processing automation database and for thousands of libraries.\n",
        "\n"
      ],
      "metadata": {
        "id": "kRY0tw13jtmo"
      }
    },
    {
      "cell_type": "markdown",
      "source": [
        "2.\twhat is an interpreter in python?\n",
        "\n",
        "Ans-An interpreter is a program or a software that executes Python codes.\n",
        "\n",
        "\n",
        "> Add blockquote\n",
        "\n"
      ],
      "metadata": {
        "id": "Uja2nndqjwqb"
      }
    },
    {
      "cell_type": "markdown",
      "source": [
        "3.\tWhat are pre-defined keywords in python?\n",
        "\n",
        "Ans- Pre-defined keywords in python are reserved words for python programming that have special meaning. These words are part of the language syntax and can not be used as variables.\n",
        "\n"
      ],
      "metadata": {
        "id": "wa4ncFCgE7UE"
      }
    },
    {
      "cell_type": "markdown",
      "source": [
        "4.\tCan keyword be used as variable names?\n",
        "\n",
        "Ans- No keyword can not be used as variables. These keywords have predefined values or meanings and are part of the programming language.\n"
      ],
      "metadata": {
        "id": "Mjs0rWCxlY7n"
      }
    },
    {
      "cell_type": "markdown",
      "source": [
        "5.\tWhat is mutability in python?\n",
        "\n",
        "Ans- Mutability is the ability of an object to modified or it’s value to be changed without creating a new object.\n"
      ],
      "metadata": {
        "id": "6W_Deq1UlP6s"
      }
    },
    {
      "cell_type": "markdown",
      "source": [
        "6.\tWhy are list mutable but tuples are not?\n",
        "\n",
        "Ans- Lists are mutable because they are designed to support modifications after creation or changing elements within the list. But Tuples are immutable because they are intended to represent fixed collections of items or represent the fix value, Once a tuple is created, its contents cannot be altered.\n"
      ],
      "metadata": {
        "id": "n32G62b1lq6-"
      }
    },
    {
      "cell_type": "markdown",
      "source": [
        "7.\tWhat is the difference between “==” and  “is “ operator?\n",
        "\n",
        "Ans- In python both both are the comparison operators but serves different purposes. While  “==” operator checks for equality and on the other hand “is”\n",
        "Operator checks for identity.\n"
      ],
      "metadata": {
        "id": "SWb0O9dilqjJ"
      }
    },
    {
      "cell_type": "markdown",
      "source": [
        "8.\tWhat are the logical operators in python?\n",
        "\n",
        "Ans-  there are two logical operators in python “and” , “or” and “not”. These\n",
        "Operators in python are used to combine or modify conditional statements.\n",
        "The result of these operators is in Boolean value- True or False.\n"
      ],
      "metadata": {
        "id": "7b1Ie_fLlqLQ"
      }
    },
    {
      "cell_type": "markdown",
      "source": [
        "9.\tWhat is type casting in python?\n",
        "\n",
        "Ans- type casting in python is changing value assigned to a variable\n",
        "There are two type of type casting\n",
        "•\tImplicit\n",
        "•\tExplicit\n"
      ],
      "metadata": {
        "id": "59pvCE76lp5f"
      }
    },
    {
      "cell_type": "markdown",
      "source": [
        "10.\tWhat is the difference between implicit and explicit type casting ?\n",
        "\n",
        "Ans-implicit type casting is automatic conversion of data type to another like from smaller data type to large data type on the other hand explicit data type is a manual conversion where programmer specifies the desired data type.\n"
      ],
      "metadata": {
        "id": "NL_ngk_qlpmt"
      }
    },
    {
      "cell_type": "markdown",
      "source": [
        "11.\tWhat is the purpose of conditional statements in python?\n",
        "\n",
        "Ans Conditional statement in python are that allows programmer to compare and make decisions and different code of blocks on weather specific conditions\n",
        "Are met. Conditional statements in python are -  IF , ELIF , and ELSE\n"
      ],
      "metadata": {
        "id": "yzM3msVClpOK"
      }
    },
    {
      "cell_type": "markdown",
      "source": [
        "12.\tHow does the elif  statement work?\n",
        "\n",
        "Ans in python elif means else if which is a conditional statement that is used to compare multiple or check for multiple statements if the first condition is false than it moves to the next statement to check if it is true.\n"
      ],
      "metadata": {
        "id": "u545vGDBnviZ"
      }
    },
    {
      "cell_type": "markdown",
      "source": [
        "13.\tWhat is the difference between for and  while loops?\n",
        "\n",
        "Ans12- for loop is used when it is pre decided how many times a statement or code is going to be repeated on the other hand while loop is used when statement or block is going to be repeated until the condition is met or true.\n"
      ],
      "metadata": {
        "id": "QeTZFk_TnzXL"
      }
    },
    {
      "cell_type": "markdown",
      "source": [
        "\n",
        "\n",
        "14.\tDescribe a scenario where a while loop is more suitable than a for loop?\n",
        "\n",
        "Ans-Lets take an example of a cricket match where team will play the game until all their wickets are down or they have reached a specific number of score. in this scenerio while loop is more suitable than the for loop.\n",
        "\n",
        "\n"
      ],
      "metadata": {
        "id": "HAlvGVJQnvKD"
      }
    },
    {
      "cell_type": "code",
      "execution_count": null,
      "metadata": {
        "id": "Uq1RP_W3MXqO",
        "colab": {
          "base_uri": "https://localhost:8080/"
        },
        "outputId": "5787645b-ce49-4ad2-f8b2-f219739674c7"
      },
      "outputs": [
        {
          "output_type": "stream",
          "name": "stdout",
          "text": [
            "hello world!\n"
          ]
        }
      ],
      "source": [
        "#1\n",
        "print(\"hello world!\")\n",
        "\n",
        "\n"
      ]
    },
    {
      "cell_type": "code",
      "source": [
        "#2.\n",
        "name = input(\"Enter your name\")\n",
        "age = input(\"enter your age\")\n",
        "print(f\"Hi my name is {name} and my age is {age}\")"
      ],
      "metadata": {
        "colab": {
          "base_uri": "https://localhost:8080/"
        },
        "id": "9PDjXEIUEZG-",
        "outputId": "539f0c64-bf53-483c-a746-b19e9c697e42"
      },
      "execution_count": null,
      "outputs": [
        {
          "output_type": "stream",
          "name": "stdout",
          "text": [
            "Enter your nameanmol\n",
            "enter your age30\n",
            "Hi my name is anmol and my age is 30\n"
          ]
        }
      ]
    },
    {
      "cell_type": "code",
      "source": [
        "#3.\n",
        "help('keywords')"
      ],
      "metadata": {
        "colab": {
          "base_uri": "https://localhost:8080/"
        },
        "id": "MCCgAA3BEce2",
        "outputId": "06209eff-c855-470f-b486-43ed150aad6e"
      },
      "execution_count": null,
      "outputs": [
        {
          "output_type": "stream",
          "name": "stdout",
          "text": [
            "\n",
            "Here is a list of the Python keywords.  Enter any keyword to get more help.\n",
            "\n",
            "False               class               from                or\n",
            "None                continue            global              pass\n",
            "True                def                 if                  raise\n",
            "and                 del                 import              return\n",
            "as                  elif                in                  try\n",
            "assert              else                is                  while\n",
            "async               except              lambda              with\n",
            "await               finally             nonlocal            yield\n",
            "break               for                 not                 \n",
            "\n"
          ]
        }
      ]
    },
    {
      "cell_type": "code",
      "source": [
        "#5\n",
        "# append remove and insert can also be used to change list\n",
        "_list1 = [2,3,4,5,\"Kishore\",6,5j]\n"
      ],
      "metadata": {
        "id": "g0IC4sRcFDRl"
      },
      "execution_count": null,
      "outputs": []
    },
    {
      "cell_type": "code",
      "source": [
        "print(_list1)"
      ],
      "metadata": {
        "colab": {
          "base_uri": "https://localhost:8080/"
        },
        "id": "nJvxdTzSHFDr",
        "outputId": "39ed1229-71ae-4529-b248-8c6965ccf977"
      },
      "execution_count": null,
      "outputs": [
        {
          "output_type": "stream",
          "name": "stdout",
          "text": [
            "[2, 3, 4, 5, 'Kishore', 6, 5j]\n"
          ]
        }
      ]
    },
    {
      "cell_type": "code",
      "source": [
        "_tuple1 = (5,6,4,2,\"jjp\",\"bbs\")"
      ],
      "metadata": {
        "id": "FX949OUBHJWX"
      },
      "execution_count": null,
      "outputs": []
    },
    {
      "cell_type": "code",
      "source": [
        "print(_tuple1)"
      ],
      "metadata": {
        "colab": {
          "base_uri": "https://localhost:8080/"
        },
        "id": "LWIgPQDhHVwe",
        "outputId": "83b8be7f-42a7-4b11-beca-0c3587ae70fc"
      },
      "execution_count": null,
      "outputs": [
        {
          "output_type": "stream",
          "name": "stdout",
          "text": [
            "(5, 6, 4, 2, 'jjp', 'bbs')\n"
          ]
        }
      ]
    },
    {
      "cell_type": "code",
      "source": [
        "print(type(_tuple1))\n",
        "print(type(_list1))"
      ],
      "metadata": {
        "colab": {
          "base_uri": "https://localhost:8080/"
        },
        "id": "2OloPIWhHZc9",
        "outputId": "8ef8277e-6863-4548-878f-38213024d61c"
      },
      "execution_count": null,
      "outputs": [
        {
          "output_type": "stream",
          "name": "stdout",
          "text": [
            "<class 'tuple'>\n",
            "<class 'list'>\n"
          ]
        }
      ]
    },
    {
      "cell_type": "code",
      "source": [
        "del _list1[0]"
      ],
      "metadata": {
        "id": "VzySt_51HnED"
      },
      "execution_count": null,
      "outputs": []
    },
    {
      "cell_type": "code",
      "source": [
        "print(_list1)"
      ],
      "metadata": {
        "colab": {
          "base_uri": "https://localhost:8080/"
        },
        "id": "pD7qI0vRIO4T",
        "outputId": "8e45db79-f2af-49d9-ab04-fe4b9f5d75dd"
      },
      "execution_count": null,
      "outputs": [
        {
          "output_type": "stream",
          "name": "stdout",
          "text": [
            "[3, 4, 5, 'Kishore', 6, 5j]\n"
          ]
        }
      ]
    },
    {
      "cell_type": "code",
      "source": [
        "_list2 = list(_tuple1)\n"
      ],
      "metadata": {
        "id": "ZOlTDLwQIRov"
      },
      "execution_count": null,
      "outputs": []
    },
    {
      "cell_type": "code",
      "source": [
        "print(type(_list2))"
      ],
      "metadata": {
        "colab": {
          "base_uri": "https://localhost:8080/"
        },
        "id": "V3su3R-iJRXP",
        "outputId": "d915fb2b-a676-4ad4-cc67-650c55970413"
      },
      "execution_count": null,
      "outputs": [
        {
          "output_type": "stream",
          "name": "stdout",
          "text": [
            "<class 'list'>\n"
          ]
        }
      ]
    },
    {
      "cell_type": "code",
      "source": [
        "_list2[2] = \"anmol\""
      ],
      "metadata": {
        "id": "q9qhyGFFJuT9"
      },
      "execution_count": null,
      "outputs": []
    },
    {
      "cell_type": "code",
      "source": [
        "_list2 = tuple(_tuple1)"
      ],
      "metadata": {
        "id": "aGtQBkaRJ45N"
      },
      "execution_count": null,
      "outputs": []
    },
    {
      "cell_type": "code",
      "source": [
        "#4 answer\n",
        "#write a programe that checks if a given keyword is python keyword\n",
        "word = input(\"Enter a word to check if it is a Python keyword: \")\n",
        "if keyword.iskeyword(word):\n",
        "    print(word, \"is a Python keyword.\")\n",
        "else:\n",
        "    print(word, \"is NOT a Python keyword.\")\n"
      ],
      "metadata": {
        "id": "tBMp_Id9KFOE"
      },
      "execution_count": null,
      "outputs": []
    },
    {
      "cell_type": "code",
      "source": [
        "#8.\n",
        "x = 10\n",
        "\n",
        "#and >>>>>>>>>both operands to be true\n",
        "print(\"--------------------------------and--------------------------------\")\n",
        "print(x > 5 and x <20)# if both are true in and\n",
        "print(x < 5 and x >1)\n",
        "print(x > 5 and x ==11)\n",
        "print(x==5 and x <9)\n",
        "print(\"-------------------------------OR------------------------------------\")\n",
        "#OR: atleast 1 is true\n",
        "print(x > 5 or x <20)# if both are true in or\n",
        "print(x < 5 or x >1)#atleast 1 is true\n",
        "print(x > 5 or x ==11)#atleast 1 is true\n",
        "print(x==5 or x <9)\n",
        "\n",
        "print(\"---------------------------not-----------------------------------------\")\n",
        "print(not(x==5 or x <9))\n"
      ],
      "metadata": {
        "id": "0Nzyx2fyLgOb"
      },
      "execution_count": null,
      "outputs": []
    },
    {
      "cell_type": "code",
      "source": [
        "#11. answer Ask the user to enter a number\n",
        "# Check if the number is positive, negative, or zero\n",
        "number = float(input(\"Enter a number: \"))\n",
        "\n",
        "\n",
        "if number > 0:\n",
        "    print(\"The number is positive.\")\n",
        "elif number < 0:\n",
        "    print(\"The number is negative.\")\n",
        "else:\n",
        "    print(\"The number is zero.\")"
      ],
      "metadata": {
        "id": "rTEg2tlcOpij"
      },
      "execution_count": null,
      "outputs": []
    },
    {
      "cell_type": "code",
      "source": [
        "#12 write a for loop to print numbers from 1 to 10.\n",
        "for i in range(1, 11):\n",
        "    print(i)"
      ],
      "metadata": {
        "id": "uFWcZdlyPQ2g",
        "colab": {
          "base_uri": "https://localhost:8080/"
        },
        "outputId": "01dd3258-16bd-4b6e-81eb-539f9634f9d4"
      },
      "execution_count": 1,
      "outputs": [
        {
          "output_type": "stream",
          "name": "stdout",
          "text": [
            "1\n",
            "2\n",
            "3\n",
            "4\n",
            "5\n",
            "6\n",
            "7\n",
            "8\n",
            "9\n",
            "10\n"
          ]
        }
      ]
    },
    {
      "cell_type": "code",
      "source": [
        "#13 write a python program to find the sum of all even numbers between 1 and 50\n",
        "sum_of_evens = 0\n",
        "for number in range(2, 51, 2):\n",
        "    sum_of_evens += number\n",
        "print(sum_of_evens)"
      ],
      "metadata": {
        "id": "jukWKiJ0Prrn"
      },
      "execution_count": null,
      "outputs": []
    },
    {
      "cell_type": "code",
      "source": [],
      "metadata": {
        "id": "35mqHvqvg_iH"
      },
      "execution_count": null,
      "outputs": []
    }
  ]
}